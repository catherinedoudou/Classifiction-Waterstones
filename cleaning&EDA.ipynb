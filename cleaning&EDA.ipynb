{
 "metadata": {
  "language_info": {
   "codemirror_mode": {
    "name": "ipython",
    "version": 3
   },
   "file_extension": ".py",
   "mimetype": "text/x-python",
   "name": "python",
   "nbconvert_exporter": "python",
   "pygments_lexer": "ipython3",
   "version": "3.9.5"
  },
  "orig_nbformat": 2,
  "kernelspec": {
   "name": "python395jvsc74a57bd0a0a49fdecb0b97e67f9776b64d7d8af24c71e41269800aef4e173a2c3ff26268",
   "display_name": "Python 3.9.5  ('venv': venv)",
   "language": "python"
  },
  "metadata": {
   "interpreter": {
    "hash": "63fd5069d213b44bf678585dea6b12cceca9941eaf7f819626cde1f2670de90d"
   }
  }
 },
 "nbformat": 4,
 "nbformat_minor": 2,
 "cells": [
  {
   "cell_type": "code",
   "execution_count": 88,
   "metadata": {},
   "outputs": [],
   "source": [
    "import pandas as pd\n",
    "import sqlite3 as sql\n",
    "import matplotlib.pyplot as plt\n",
    "import numpy as np\n",
    "import seaborn as sns\n",
    "from random import sample"
   ]
  },
  {
   "cell_type": "code",
   "execution_count": 111,
   "metadata": {},
   "outputs": [],
   "source": [
    "conn = sql.connect('books.db')\n",
    "basic_df = pd.read_sql('SELECT * FROM basic_info', conn)\n",
    "basic_df.drop_duplicates(inplace=True)"
   ]
  },
  {
   "cell_type": "code",
   "execution_count": 112,
   "metadata": {},
   "outputs": [],
   "source": [
    "conn = sql.connect('books.db')\n",
    "extra_df = pd.read_sql('SELECT * FROM extra_info', conn)\n",
    "\n",
    "extra_df.drop('Unnamed: 0', axis=1, inplace=True)\n",
    "extra_df.drop('Unnamed: 0.1', axis=1, inplace=True)\n",
    "extra_df.drop('index', axis=1, inplace=True)\n",
    "\n",
    "# remove newlines and tabs\n",
    "extra_df = extra_df.replace('\\n','', regex=True)\n",
    "extra_df = extra_df.replace('\\t','', regex=True)\n",
    "extra_df.drop_duplicates(inplace=True)"
   ]
  },
  {
   "cell_type": "code",
   "execution_count": 113,
   "metadata": {},
   "outputs": [],
   "source": [
    "df_two = pd.merge(extra_df, basic_df,on='book_link')\n",
    "df = df_two[['title','categories','description']]\n",
    "df = df[~(df.description == '')]"
   ]
  },
  {
   "source": [
    "### Cleaning the categories"
   ],
   "cell_type": "markdown",
   "metadata": {}
  },
  {
   "cell_type": "code",
   "execution_count": 114,
   "metadata": {},
   "outputs": [],
   "source": [
    "df.categories.replace('This book can be found in:', '', regex=True,inplace=True)\n",
    "df.categories.replace('This product can be found in:', '', regex=True, inplace=True)\n",
    "df['categories'] = df.categories.str.split('>').str[0]  ## get the root category\n",
    "df['categories'] = df['categories'].str.replace(\"'\", \"\")"
   ]
  },
  {
   "cell_type": "code",
   "execution_count": 115,
   "metadata": {},
   "outputs": [],
   "source": [
    "fiction = ['Poetry, Drama & Criticism ','Fiction ','Graphic Novels & Manga ','Science Fiction, Fantasy & Horror ','Romantic Fiction ','Crime, Thrillers & Mystery ']"
   ]
  },
  {
   "cell_type": "code",
   "execution_count": 116,
   "metadata": {},
   "outputs": [],
   "source": [
    "non = ['Spirituality & Beliefs ', 'Politics, Society & Education ', 'Business, Finance & Law ', 'Science, Technology & Medicine ','History ','Biography & True Stories ']"
   ]
  },
  {
   "cell_type": "code",
   "execution_count": 117,
   "metadata": {},
   "outputs": [],
   "source": [
    "fiction_df = df[df.categories.isin(fiction)]\n",
    "non_df = df[df.categories.isin(non)].sample(n=22563, random_state=1)\n",
    "df = pd.concat([fiction_df, non_df])\n",
    "df.categories = df.categories.astype('category') "
   ]
  },
  {
   "cell_type": "code",
   "execution_count": 122,
   "metadata": {},
   "outputs": [],
   "source": [
    "df = df.sort_index()"
   ]
  },
  {
   "cell_type": "code",
   "execution_count": 123,
   "metadata": {},
   "outputs": [
    {
     "output_type": "stream",
     "name": "stdout",
     "text": [
      "<class 'pandas.core.frame.DataFrame'>\nInt64Index: 45126 entries, 8 to 464637\nData columns (total 4 columns):\n #   Column       Non-Null Count  Dtype   \n---  ------       --------------  -----   \n 0   title        45126 non-null  object  \n 1   categories   45126 non-null  category\n 2   description  45126 non-null  object  \n 3   fiction      45126 non-null  bool    \ndtypes: bool(1), category(1), object(2)\nmemory usage: 1.1+ MB\n"
     ]
    }
   ],
   "source": [
    "df.info()"
   ]
  },
  {
   "cell_type": "code",
   "execution_count": 120,
   "metadata": {},
   "outputs": [
    {
     "output_type": "execute_result",
     "data": {
      "text/plain": [
       "False    22563\n",
       "True     22563\n",
       "Name: fiction, dtype: int64"
      ]
     },
     "metadata": {},
     "execution_count": 120
    }
   ],
   "source": [
    "df['fiction'] = df.categories.isin(fiction)\n",
    "df['fiction'].value_counts()"
   ]
  },
  {
   "cell_type": "code",
   "execution_count": 128,
   "metadata": {},
   "outputs": [
    {
     "output_type": "execute_result",
     "data": {
      "text/plain": [
       "        index                                              title  \\\n",
       "0           8              Optical Studies in Liquids and Solids   \n",
       "1          24                   Economics with Connect Plus Card   \n",
       "2          38       Scoring High on SAT, Teacher Edition Grade 6   \n",
       "3          53                            Teaching Anticorruption   \n",
       "4          58                             Learning Organizations   \n",
       "...       ...                                                ...   \n",
       "45121  464556                                               Whio   \n",
       "45122  464559                              Northern Irish Poetry   \n",
       "45123  464569  Reviews of Physiology, Biochemistry and Pharma...   \n",
       "45124  464618     The Vital Needs Of The Dead By Igor Sakhnovsky   \n",
       "45125  464637  Mandatory Requirements for Airworthiness (cons...   \n",
       "\n",
       "                            categories  \\\n",
       "0      Science, Technology & Medicine    \n",
       "1             Business, Finance & Law    \n",
       "2       Politics, Society & Education    \n",
       "3             Business, Finance & Law    \n",
       "4             Business, Finance & Law    \n",
       "...                                ...   \n",
       "45121  Science, Technology & Medicine    \n",
       "45122       Poetry, Drama & Criticism    \n",
       "45123  Science, Technology & Medicine    \n",
       "45124                         Fiction    \n",
       "45125         Business, Finance & Law    \n",
       "\n",
       "                                             description  fiction  \n",
       "0      The study of the vibrations of polyatomic mole...    False  \n",
       "1      The combination of David Begg with new co-auth...    False  \n",
       "2                                        Teacher Edition    False  \n",
       "3      The movement in management education towards a...    False  \n",
       "4      Learning Organizations: Turning Knowledge into...    False  \n",
       "...                                                  ...      ...  \n",
       "45121  The blue duck, or whio, is one of New Zealand'...    False  \n",
       "45122  Through discussion of the ways in which major ...     True  \n",
       "45123  W. Ulbricht: Effects of veratridine on sodium ...    False  \n",
       "45124  The Vital Needs of the Dead is a tender coming...     True  \n",
       "45125          Supersedes May 2008 consolidated edition.    False  \n",
       "\n",
       "[45126 rows x 5 columns]"
      ],
      "text/html": "<div>\n<style scoped>\n    .dataframe tbody tr th:only-of-type {\n        vertical-align: middle;\n    }\n\n    .dataframe tbody tr th {\n        vertical-align: top;\n    }\n\n    .dataframe thead th {\n        text-align: right;\n    }\n</style>\n<table border=\"1\" class=\"dataframe\">\n  <thead>\n    <tr style=\"text-align: right;\">\n      <th></th>\n      <th>index</th>\n      <th>title</th>\n      <th>categories</th>\n      <th>description</th>\n      <th>fiction</th>\n    </tr>\n  </thead>\n  <tbody>\n    <tr>\n      <th>0</th>\n      <td>8</td>\n      <td>Optical Studies in Liquids and Solids</td>\n      <td>Science, Technology &amp; Medicine</td>\n      <td>The study of the vibrations of polyatomic mole...</td>\n      <td>False</td>\n    </tr>\n    <tr>\n      <th>1</th>\n      <td>24</td>\n      <td>Economics with Connect Plus Card</td>\n      <td>Business, Finance &amp; Law</td>\n      <td>The combination of David Begg with new co-auth...</td>\n      <td>False</td>\n    </tr>\n    <tr>\n      <th>2</th>\n      <td>38</td>\n      <td>Scoring High on SAT, Teacher Edition Grade 6</td>\n      <td>Politics, Society &amp; Education</td>\n      <td>Teacher Edition</td>\n      <td>False</td>\n    </tr>\n    <tr>\n      <th>3</th>\n      <td>53</td>\n      <td>Teaching Anticorruption</td>\n      <td>Business, Finance &amp; Law</td>\n      <td>The movement in management education towards a...</td>\n      <td>False</td>\n    </tr>\n    <tr>\n      <th>4</th>\n      <td>58</td>\n      <td>Learning Organizations</td>\n      <td>Business, Finance &amp; Law</td>\n      <td>Learning Organizations: Turning Knowledge into...</td>\n      <td>False</td>\n    </tr>\n    <tr>\n      <th>...</th>\n      <td>...</td>\n      <td>...</td>\n      <td>...</td>\n      <td>...</td>\n      <td>...</td>\n    </tr>\n    <tr>\n      <th>45121</th>\n      <td>464556</td>\n      <td>Whio</td>\n      <td>Science, Technology &amp; Medicine</td>\n      <td>The blue duck, or whio, is one of New Zealand'...</td>\n      <td>False</td>\n    </tr>\n    <tr>\n      <th>45122</th>\n      <td>464559</td>\n      <td>Northern Irish Poetry</td>\n      <td>Poetry, Drama &amp; Criticism</td>\n      <td>Through discussion of the ways in which major ...</td>\n      <td>True</td>\n    </tr>\n    <tr>\n      <th>45123</th>\n      <td>464569</td>\n      <td>Reviews of Physiology, Biochemistry and Pharma...</td>\n      <td>Science, Technology &amp; Medicine</td>\n      <td>W. Ulbricht: Effects of veratridine on sodium ...</td>\n      <td>False</td>\n    </tr>\n    <tr>\n      <th>45124</th>\n      <td>464618</td>\n      <td>The Vital Needs Of The Dead By Igor Sakhnovsky</td>\n      <td>Fiction</td>\n      <td>The Vital Needs of the Dead is a tender coming...</td>\n      <td>True</td>\n    </tr>\n    <tr>\n      <th>45125</th>\n      <td>464637</td>\n      <td>Mandatory Requirements for Airworthiness (cons...</td>\n      <td>Business, Finance &amp; Law</td>\n      <td>Supersedes May 2008 consolidated edition.</td>\n      <td>False</td>\n    </tr>\n  </tbody>\n</table>\n<p>45126 rows × 5 columns</p>\n</div>"
     },
     "metadata": {},
     "execution_count": 128
    }
   ],
   "source": [
    "df"
   ]
  },
  {
   "cell_type": "code",
   "execution_count": null,
   "metadata": {},
   "outputs": [],
   "source": [
    "df = df.reset_index()\n",
    "df.drop(columns='index',inplace=True)"
   ]
  },
  {
   "cell_type": "code",
   "execution_count": 132,
   "metadata": {},
   "outputs": [
    {
     "output_type": "execute_result",
     "data": {
      "text/plain": [
       "                                                   title  \\\n",
       "0                  Optical Studies in Liquids and Solids   \n",
       "1                       Economics with Connect Plus Card   \n",
       "2           Scoring High on SAT, Teacher Edition Grade 6   \n",
       "3                                Teaching Anticorruption   \n",
       "4                                 Learning Organizations   \n",
       "...                                                  ...   \n",
       "45121                                               Whio   \n",
       "45122                              Northern Irish Poetry   \n",
       "45123  Reviews of Physiology, Biochemistry and Pharma...   \n",
       "45124     The Vital Needs Of The Dead By Igor Sakhnovsky   \n",
       "45125  Mandatory Requirements for Airworthiness (cons...   \n",
       "\n",
       "                            categories  \\\n",
       "0      Science, Technology & Medicine    \n",
       "1             Business, Finance & Law    \n",
       "2       Politics, Society & Education    \n",
       "3             Business, Finance & Law    \n",
       "4             Business, Finance & Law    \n",
       "...                                ...   \n",
       "45121  Science, Technology & Medicine    \n",
       "45122       Poetry, Drama & Criticism    \n",
       "45123  Science, Technology & Medicine    \n",
       "45124                         Fiction    \n",
       "45125         Business, Finance & Law    \n",
       "\n",
       "                                             description  fiction  \n",
       "0      The study of the vibrations of polyatomic mole...    False  \n",
       "1      The combination of David Begg with new co-auth...    False  \n",
       "2                                        Teacher Edition    False  \n",
       "3      The movement in management education towards a...    False  \n",
       "4      Learning Organizations: Turning Knowledge into...    False  \n",
       "...                                                  ...      ...  \n",
       "45121  The blue duck, or whio, is one of New Zealand'...    False  \n",
       "45122  Through discussion of the ways in which major ...     True  \n",
       "45123  W. Ulbricht: Effects of veratridine on sodium ...    False  \n",
       "45124  The Vital Needs of the Dead is a tender coming...     True  \n",
       "45125          Supersedes May 2008 consolidated edition.    False  \n",
       "\n",
       "[45126 rows x 4 columns]"
      ],
      "text/html": "<div>\n<style scoped>\n    .dataframe tbody tr th:only-of-type {\n        vertical-align: middle;\n    }\n\n    .dataframe tbody tr th {\n        vertical-align: top;\n    }\n\n    .dataframe thead th {\n        text-align: right;\n    }\n</style>\n<table border=\"1\" class=\"dataframe\">\n  <thead>\n    <tr style=\"text-align: right;\">\n      <th></th>\n      <th>title</th>\n      <th>categories</th>\n      <th>description</th>\n      <th>fiction</th>\n    </tr>\n  </thead>\n  <tbody>\n    <tr>\n      <th>0</th>\n      <td>Optical Studies in Liquids and Solids</td>\n      <td>Science, Technology &amp; Medicine</td>\n      <td>The study of the vibrations of polyatomic mole...</td>\n      <td>False</td>\n    </tr>\n    <tr>\n      <th>1</th>\n      <td>Economics with Connect Plus Card</td>\n      <td>Business, Finance &amp; Law</td>\n      <td>The combination of David Begg with new co-auth...</td>\n      <td>False</td>\n    </tr>\n    <tr>\n      <th>2</th>\n      <td>Scoring High on SAT, Teacher Edition Grade 6</td>\n      <td>Politics, Society &amp; Education</td>\n      <td>Teacher Edition</td>\n      <td>False</td>\n    </tr>\n    <tr>\n      <th>3</th>\n      <td>Teaching Anticorruption</td>\n      <td>Business, Finance &amp; Law</td>\n      <td>The movement in management education towards a...</td>\n      <td>False</td>\n    </tr>\n    <tr>\n      <th>4</th>\n      <td>Learning Organizations</td>\n      <td>Business, Finance &amp; Law</td>\n      <td>Learning Organizations: Turning Knowledge into...</td>\n      <td>False</td>\n    </tr>\n    <tr>\n      <th>...</th>\n      <td>...</td>\n      <td>...</td>\n      <td>...</td>\n      <td>...</td>\n    </tr>\n    <tr>\n      <th>45121</th>\n      <td>Whio</td>\n      <td>Science, Technology &amp; Medicine</td>\n      <td>The blue duck, or whio, is one of New Zealand'...</td>\n      <td>False</td>\n    </tr>\n    <tr>\n      <th>45122</th>\n      <td>Northern Irish Poetry</td>\n      <td>Poetry, Drama &amp; Criticism</td>\n      <td>Through discussion of the ways in which major ...</td>\n      <td>True</td>\n    </tr>\n    <tr>\n      <th>45123</th>\n      <td>Reviews of Physiology, Biochemistry and Pharma...</td>\n      <td>Science, Technology &amp; Medicine</td>\n      <td>W. Ulbricht: Effects of veratridine on sodium ...</td>\n      <td>False</td>\n    </tr>\n    <tr>\n      <th>45124</th>\n      <td>The Vital Needs Of The Dead By Igor Sakhnovsky</td>\n      <td>Fiction</td>\n      <td>The Vital Needs of the Dead is a tender coming...</td>\n      <td>True</td>\n    </tr>\n    <tr>\n      <th>45125</th>\n      <td>Mandatory Requirements for Airworthiness (cons...</td>\n      <td>Business, Finance &amp; Law</td>\n      <td>Supersedes May 2008 consolidated edition.</td>\n      <td>False</td>\n    </tr>\n  </tbody>\n</table>\n<p>45126 rows × 4 columns</p>\n</div>"
     },
     "metadata": {},
     "execution_count": 132
    }
   ],
   "source": [
    "df"
   ]
  },
  {
   "cell_type": "code",
   "execution_count": 133,
   "metadata": {},
   "outputs": [],
   "source": [
    "df.to_pickle('class_data.pkl')"
   ]
  },
  {
   "cell_type": "code",
   "execution_count": 134,
   "metadata": {},
   "outputs": [
    {
     "output_type": "execute_result",
     "data": {
      "text/plain": [
       "([<matplotlib.patches.Wedge at 0x21316c85c70>,\n",
       "  <matplotlib.patches.Wedge at 0x213516eae80>],\n",
       " [Text(6.735557395310444e-17, 1.1, 'non_fiction'),\n",
       "  Text(-2.0206672185931328e-16, -1.1, 'ficiton')])"
      ]
     },
     "metadata": {},
     "execution_count": 134
    },
    {
     "output_type": "display_data",
     "data": {
      "text/plain": "<Figure size 720x720 with 1 Axes>",
      "image/svg+xml": "<?xml version=\"1.0\" encoding=\"utf-8\" standalone=\"no\"?>\r\n<!DOCTYPE svg PUBLIC \"-//W3C//DTD SVG 1.1//EN\"\r\n  \"http://www.w3.org/Graphics/SVG/1.1/DTD/svg11.dtd\">\r\n<svg height=\"558pt\" version=\"1.1\" viewBox=\"0 0 558 558\" width=\"558pt\" xmlns=\"http://www.w3.org/2000/svg\" xmlns:xlink=\"http://www.w3.org/1999/xlink\">\r\n <metadata>\r\n  <rdf:RDF xmlns:cc=\"http://creativecommons.org/ns#\" xmlns:dc=\"http://purl.org/dc/elements/1.1/\" xmlns:rdf=\"http://www.w3.org/1999/02/22-rdf-syntax-ns#\">\r\n   <cc:Work>\r\n    <dc:type rdf:resource=\"http://purl.org/dc/dcmitype/StillImage\"/>\r\n    <dc:date>2021-06-12T14:38:17.288860</dc:date>\r\n    <dc:format>image/svg+xml</dc:format>\r\n    <dc:creator>\r\n     <cc:Agent>\r\n      <dc:title>Matplotlib v3.4.2, https://matplotlib.org/</dc:title>\r\n     </cc:Agent>\r\n    </dc:creator>\r\n   </cc:Work>\r\n  </rdf:RDF>\r\n </metadata>\r\n <defs>\r\n  <style type=\"text/css\">*{stroke-linecap:butt;stroke-linejoin:round;}</style>\r\n </defs>\r\n <g id=\"figure_1\">\r\n  <g id=\"patch_1\">\r\n   <path d=\"M 0 558 \r\nL 558 558 \r\nL 558 0 \r\nL 0 0 \r\nz\r\n\" style=\"fill:none;\"/>\r\n  </g>\r\n  <g id=\"axes_1\">\r\n   <g id=\"patch_2\">\r\n    <path d=\"M 492.0912 283.3488 \r\nC 492.0912 225.702244 469.166769 170.357772 428.404499 129.595501 \r\nC 387.642228 88.833231 332.297756 65.9088 274.6512 65.9088 \r\nC 217.004644 65.9088 161.660172 88.833231 120.897901 129.595501 \r\nC 80.135631 170.357772 57.2112 225.702244 57.2112 283.3488 \r\nL 274.6512 283.3488 \r\nL 492.0912 283.3488 \r\nz\r\n\" style=\"fill:#003939;opacity:0.5;stroke:#003939;stroke-linejoin:miter;\"/>\r\n   </g>\r\n   <g id=\"patch_3\">\r\n    <path d=\"M 57.2112 283.3488 \r\nC 57.2112 340.995356 80.135631 396.339828 120.897901 437.102099 \r\nC 161.660172 477.864369 217.004644 500.7888 274.6512 500.7888 \r\nC 332.297756 500.7888 387.642228 477.864369 428.404499 437.102099 \r\nC 469.166769 396.339828 492.0912 340.995356 492.0912 283.3488 \r\nL 274.6512 283.3488 \r\nL 57.2112 283.3488 \r\nz\r\n\" style=\"fill:#4c1f36;opacity:0.5;stroke:#4c1f36;stroke-linejoin:miter;\"/>\r\n   </g>\r\n   <g id=\"patch_4\">\r\n    <path d=\"M 496.44 279 \r\nC 496.44 221.353444 473.515569 166.008972 432.753299 125.246701 \r\nC 391.991028 84.484431 336.646556 61.56 279 61.56 \r\nC 221.353444 61.56 166.008972 84.484431 125.246701 125.246701 \r\nC 84.484431 166.008972 61.56 221.353444 61.56 279 \r\nL 279 279 \r\nL 496.44 279 \r\nz\r\n\" style=\"fill:#00bfbf;\"/>\r\n   </g>\r\n   <g id=\"patch_5\">\r\n    <path d=\"M 61.56 279 \r\nC 61.56 336.646556 84.484431 391.991028 125.246701 432.753299 \r\nC 166.008972 473.515569 221.353444 496.44 279 496.44 \r\nC 336.646556 496.44 391.991028 473.515569 432.753299 432.753299 \r\nC 473.515569 391.991028 496.44 336.646556 496.44 279 \r\nL 279 279 \r\nL 61.56 279 \r\nz\r\n\" style=\"fill:#ff69b4;\"/>\r\n   </g>\r\n   <g id=\"matplotlib.axis_1\"/>\r\n   <g id=\"matplotlib.axis_2\"/>\r\n   <g id=\"text_1\">\r\n    <!-- non_fiction -->\r\n    <g transform=\"translate(279 42.436312)scale(0.1 -0.1)\">\r\n     <defs>\r\n      <path d=\"M 3513 2113 \r\nL 3513 0 \r\nL 2938 0 \r\nL 2938 2094 \r\nQ 2938 2591 2744 2837 \r\nQ 2550 3084 2163 3084 \r\nQ 1697 3084 1428 2787 \r\nQ 1159 2491 1159 1978 \r\nL 1159 0 \r\nL 581 0 \r\nL 581 3500 \r\nL 1159 3500 \r\nL 1159 2956 \r\nQ 1366 3272 1645 3428 \r\nQ 1925 3584 2291 3584 \r\nQ 2894 3584 3203 3211 \r\nQ 3513 2838 3513 2113 \r\nz\r\n\" id=\"DejaVuSans-6e\" transform=\"scale(0.015625)\"/>\r\n      <path d=\"M 1959 3097 \r\nQ 1497 3097 1228 2736 \r\nQ 959 2375 959 1747 \r\nQ 959 1119 1226 758 \r\nQ 1494 397 1959 397 \r\nQ 2419 397 2687 759 \r\nQ 2956 1122 2956 1747 \r\nQ 2956 2369 2687 2733 \r\nQ 2419 3097 1959 3097 \r\nz\r\nM 1959 3584 \r\nQ 2709 3584 3137 3096 \r\nQ 3566 2609 3566 1747 \r\nQ 3566 888 3137 398 \r\nQ 2709 -91 1959 -91 \r\nQ 1206 -91 779 398 \r\nQ 353 888 353 1747 \r\nQ 353 2609 779 3096 \r\nQ 1206 3584 1959 3584 \r\nz\r\n\" id=\"DejaVuSans-6f\" transform=\"scale(0.015625)\"/>\r\n      <path d=\"M 3263 -1063 \r\nL 3263 -1509 \r\nL -63 -1509 \r\nL -63 -1063 \r\nL 3263 -1063 \r\nz\r\n\" id=\"DejaVuSans-5f\" transform=\"scale(0.015625)\"/>\r\n      <path d=\"M 2375 4863 \r\nL 2375 4384 \r\nL 1825 4384 \r\nQ 1516 4384 1395 4259 \r\nQ 1275 4134 1275 3809 \r\nL 1275 3500 \r\nL 2222 3500 \r\nL 2222 3053 \r\nL 1275 3053 \r\nL 1275 0 \r\nL 697 0 \r\nL 697 3053 \r\nL 147 3053 \r\nL 147 3500 \r\nL 697 3500 \r\nL 697 3744 \r\nQ 697 4328 969 4595 \r\nQ 1241 4863 1831 4863 \r\nL 2375 4863 \r\nz\r\n\" id=\"DejaVuSans-66\" transform=\"scale(0.015625)\"/>\r\n      <path d=\"M 603 3500 \r\nL 1178 3500 \r\nL 1178 0 \r\nL 603 0 \r\nL 603 3500 \r\nz\r\nM 603 4863 \r\nL 1178 4863 \r\nL 1178 4134 \r\nL 603 4134 \r\nL 603 4863 \r\nz\r\n\" id=\"DejaVuSans-69\" transform=\"scale(0.015625)\"/>\r\n      <path d=\"M 3122 3366 \r\nL 3122 2828 \r\nQ 2878 2963 2633 3030 \r\nQ 2388 3097 2138 3097 \r\nQ 1578 3097 1268 2742 \r\nQ 959 2388 959 1747 \r\nQ 959 1106 1268 751 \r\nQ 1578 397 2138 397 \r\nQ 2388 397 2633 464 \r\nQ 2878 531 3122 666 \r\nL 3122 134 \r\nQ 2881 22 2623 -34 \r\nQ 2366 -91 2075 -91 \r\nQ 1284 -91 818 406 \r\nQ 353 903 353 1747 \r\nQ 353 2603 823 3093 \r\nQ 1294 3584 2113 3584 \r\nQ 2378 3584 2631 3529 \r\nQ 2884 3475 3122 3366 \r\nz\r\n\" id=\"DejaVuSans-63\" transform=\"scale(0.015625)\"/>\r\n      <path d=\"M 1172 4494 \r\nL 1172 3500 \r\nL 2356 3500 \r\nL 2356 3053 \r\nL 1172 3053 \r\nL 1172 1153 \r\nQ 1172 725 1289 603 \r\nQ 1406 481 1766 481 \r\nL 2356 481 \r\nL 2356 0 \r\nL 1766 0 \r\nQ 1100 0 847 248 \r\nQ 594 497 594 1153 \r\nL 594 3053 \r\nL 172 3053 \r\nL 172 3500 \r\nL 594 3500 \r\nL 594 4494 \r\nL 1172 4494 \r\nz\r\n\" id=\"DejaVuSans-74\" transform=\"scale(0.015625)\"/>\r\n     </defs>\r\n     <use xlink:href=\"#DejaVuSans-6e\"/>\r\n     <use x=\"63.378906\" xlink:href=\"#DejaVuSans-6f\"/>\r\n     <use x=\"124.560547\" xlink:href=\"#DejaVuSans-6e\"/>\r\n     <use x=\"187.939453\" xlink:href=\"#DejaVuSans-5f\"/>\r\n     <use x=\"237.939453\" xlink:href=\"#DejaVuSans-66\"/>\r\n     <use x=\"273.144531\" xlink:href=\"#DejaVuSans-69\"/>\r\n     <use x=\"300.927734\" xlink:href=\"#DejaVuSans-63\"/>\r\n     <use x=\"355.908203\" xlink:href=\"#DejaVuSans-74\"/>\r\n     <use x=\"395.117188\" xlink:href=\"#DejaVuSans-69\"/>\r\n     <use x=\"422.900391\" xlink:href=\"#DejaVuSans-6f\"/>\r\n     <use x=\"484.082031\" xlink:href=\"#DejaVuSans-6e\"/>\r\n    </g>\r\n   </g>\r\n   <g id=\"text_2\">\r\n    <!-- ficiton -->\r\n    <g transform=\"translate(248.048437 520.943375)scale(0.1 -0.1)\">\r\n     <use xlink:href=\"#DejaVuSans-66\"/>\r\n     <use x=\"35.205078\" xlink:href=\"#DejaVuSans-69\"/>\r\n     <use x=\"62.988281\" xlink:href=\"#DejaVuSans-63\"/>\r\n     <use x=\"117.96875\" xlink:href=\"#DejaVuSans-69\"/>\r\n     <use x=\"145.751953\" xlink:href=\"#DejaVuSans-74\"/>\r\n     <use x=\"184.960938\" xlink:href=\"#DejaVuSans-6f\"/>\r\n     <use x=\"246.142578\" xlink:href=\"#DejaVuSans-6e\"/>\r\n    </g>\r\n   </g>\r\n  </g>\r\n </g>\r\n</svg>\r\n",
      "image/png": "[encoded data removed]"
     },
     "metadata": {}
    }
   ],
   "source": [
    "data = df['fiction'].value_counts()\n",
    "plt.figure(figsize=(10,10))\n",
    "plt.pie(data,labels=['non_fiction','ficiton'],colors=['c','hotpink'], shadow=True)"
   ]
  },
  {
   "cell_type": "code",
   "execution_count": 174,
   "metadata": {},
   "outputs": [],
   "source": []
  },
  {
   "cell_type": "code",
   "execution_count": 175,
   "metadata": {},
   "outputs": [],
   "source": []
  },
  {
   "cell_type": "code",
   "execution_count": 178,
   "metadata": {},
   "outputs": [],
   "source": []
  },
  {
   "cell_type": "code",
   "execution_count": 180,
   "metadata": {},
   "outputs": [],
   "source": []
  },
  {
   "cell_type": "code",
   "execution_count": 183,
   "metadata": {},
   "outputs": [],
   "source": []
  },
  {
   "cell_type": "code",
   "execution_count": null,
   "metadata": {},
   "outputs": [],
   "source": []
  }
 ]
}